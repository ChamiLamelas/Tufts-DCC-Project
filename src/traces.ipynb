{
 "cells": [
  {
   "cell_type": "code",
   "execution_count": 1,
   "metadata": {},
   "outputs": [],
   "source": [
    "import pandas as pd \n",
    "import os\n",
    "\n",
    "UPSTREAM_ID = 'um'\n",
    "DOWNSTREAM_ID = 'dm'\n",
    "TRACE_ID = 'traceid'\n",
    "RPC_ID = 'rpcid'"
   ]
  },
  {
   "cell_type": "code",
   "execution_count": 2,
   "metadata": {},
   "outputs": [
    {
     "data": {
      "text/html": [
       "<div>\n",
       "<style scoped>\n",
       "    .dataframe tbody tr th:only-of-type {\n",
       "        vertical-align: middle;\n",
       "    }\n",
       "\n",
       "    .dataframe tbody tr th {\n",
       "        vertical-align: top;\n",
       "    }\n",
       "\n",
       "    .dataframe thead th {\n",
       "        text-align: right;\n",
       "    }\n",
       "</style>\n",
       "<table border=\"1\" class=\"dataframe\">\n",
       "  <thead>\n",
       "    <tr style=\"text-align: right;\">\n",
       "      <th></th>\n",
       "      <th>um</th>\n",
       "      <th>dm</th>\n",
       "      <th>traceid</th>\n",
       "      <th>rpcid</th>\n",
       "    </tr>\n",
       "  </thead>\n",
       "  <tbody>\n",
       "    <tr>\n",
       "      <th>0</th>\n",
       "      <td>5cca70246befb1f4c9546d2912b9419dee54439218efa5...</td>\n",
       "      <td>b1dbd3a649a3cc790fa12573c9c1aa00988e07a8818a22...</td>\n",
       "      <td>0b133c1915919238193454000e5d37</td>\n",
       "      <td>0.1.3.1.1.1.12</td>\n",
       "    </tr>\n",
       "    <tr>\n",
       "      <th>1</th>\n",
       "      <td>5cca70246befb1f4c9546d2912b9419dee54439218efa5...</td>\n",
       "      <td>b1dbd3a649a3cc790fa12573c9c1aa00988e07a8818a22...</td>\n",
       "      <td>0b133c1915919238193454000e5d37</td>\n",
       "      <td>0.1.3.1.1.14.19</td>\n",
       "    </tr>\n",
       "    <tr>\n",
       "      <th>2</th>\n",
       "      <td>5cca70246befb1f4c9546d2912b9419dee54439218efa5...</td>\n",
       "      <td>b1dbd3a649a3cc790fa12573c9c1aa00988e07a8818a22...</td>\n",
       "      <td>0b133c1915919238193454000e5d37</td>\n",
       "      <td>0.1.3.1.1.14.18</td>\n",
       "    </tr>\n",
       "    <tr>\n",
       "      <th>3</th>\n",
       "      <td>5cca70246befb1f4c9546d2912b9419dee54439218efa5...</td>\n",
       "      <td>b1dbd3a649a3cc790fa12573c9c1aa00988e07a8818a22...</td>\n",
       "      <td>0b133c1915919238193454000e5d37</td>\n",
       "      <td>0.1.3.1.1.14.4</td>\n",
       "    </tr>\n",
       "    <tr>\n",
       "      <th>4</th>\n",
       "      <td>5cca70246befb1f4c9546d2912b9419dee54439218efa5...</td>\n",
       "      <td>b1dbd3a649a3cc790fa12573c9c1aa00988e07a8818a22...</td>\n",
       "      <td>0b133c1915919238193454000e5d37</td>\n",
       "      <td>0.1.3.1.1.14.17</td>\n",
       "    </tr>\n",
       "  </tbody>\n",
       "</table>\n",
       "</div>"
      ],
      "text/plain": [
       "                                                  um  \\\n",
       "0  5cca70246befb1f4c9546d2912b9419dee54439218efa5...   \n",
       "1  5cca70246befb1f4c9546d2912b9419dee54439218efa5...   \n",
       "2  5cca70246befb1f4c9546d2912b9419dee54439218efa5...   \n",
       "3  5cca70246befb1f4c9546d2912b9419dee54439218efa5...   \n",
       "4  5cca70246befb1f4c9546d2912b9419dee54439218efa5...   \n",
       "\n",
       "                                                  dm  \\\n",
       "0  b1dbd3a649a3cc790fa12573c9c1aa00988e07a8818a22...   \n",
       "1  b1dbd3a649a3cc790fa12573c9c1aa00988e07a8818a22...   \n",
       "2  b1dbd3a649a3cc790fa12573c9c1aa00988e07a8818a22...   \n",
       "3  b1dbd3a649a3cc790fa12573c9c1aa00988e07a8818a22...   \n",
       "4  b1dbd3a649a3cc790fa12573c9c1aa00988e07a8818a22...   \n",
       "\n",
       "                          traceid            rpcid  \n",
       "0  0b133c1915919238193454000e5d37   0.1.3.1.1.1.12  \n",
       "1  0b133c1915919238193454000e5d37  0.1.3.1.1.14.19  \n",
       "2  0b133c1915919238193454000e5d37  0.1.3.1.1.14.18  \n",
       "3  0b133c1915919238193454000e5d37   0.1.3.1.1.14.4  \n",
       "4  0b133c1915919238193454000e5d37  0.1.3.1.1.14.17  "
      ]
     },
     "execution_count": 2,
     "metadata": {},
     "output_type": "execute_result"
    }
   ],
   "source": [
    "df = pd.read_csv(os.path.join('..', 'data', 'MSCallGraph_0.csv'))\n",
    "df = df[[UPSTREAM_ID, DOWNSTREAM_ID, TRACE_ID, RPC_ID]]\n",
    "df.head()"
   ]
  },
  {
   "cell_type": "code",
   "execution_count": null,
   "metadata": {},
   "outputs": [],
   "source": [
    "class CallGraph:\n",
    "    def __init__(self, trace):\n",
    "        self.graph = { None:[] }\n",
    "        "
   ]
  },
  {
   "cell_type": "code",
   "execution_count": 11,
   "metadata": {},
   "outputs": [
    {
     "data": {
      "text/plain": [
       "traceid\n",
       "015101cc15919237869618000e        [0, 0.1.1, 0.1.1.1, 0.1.1.10, 0.1.1.11, 0.1.1....\n",
       "015101cf15919238987695000e        [0, 0.1.1, 0.1.1.1, 0.1.1.2, 0.1.1.2, 0.1.1.2....\n",
       "01c1da1c15919237445045000e        [0, 0.1.1, 0.1.1.1, 0.1.1.1, 0.1.1.1.1, 0.1.1....\n",
       "0b00313f15918946336963000d0cfe    [0.3.3.1.111385360, 0.3.3.1.111385360.1, 0.3.3...\n",
       "0b00313f15918954447094000d0cfe    [0.3.2.1.111773314, 0.3.2.1.111773314.1, 0.3.2...\n",
       "Name: rpcid, dtype: object"
      ]
     },
     "execution_count": 11,
     "metadata": {},
     "output_type": "execute_result"
    }
   ],
   "source": [
    "grouped = df.groupby([TRACE_ID])[RPC_ID].apply(list)\n",
    "grouped.head()"
   ]
  },
  {
   "cell_type": "code",
   "execution_count": 12,
   "metadata": {},
   "outputs": [
    {
     "data": {
      "text/plain": [
       "355"
      ]
     },
     "execution_count": 12,
     "metadata": {},
     "output_type": "execute_result"
    }
   ],
   "source": [
    "trace = grouped[0]\n",
    "len(trace)"
   ]
  },
  {
   "cell_type": "code",
   "execution_count": 14,
   "metadata": {},
   "outputs": [
    {
     "data": {
      "text/plain": [
       "77"
      ]
     },
     "execution_count": 14,
     "metadata": {},
     "output_type": "execute_result"
    }
   ],
   "source": []
  },
  {
   "cell_type": "code",
   "execution_count": null,
   "metadata": {},
   "outputs": [],
   "source": []
  },
  {
   "cell_type": "code",
   "execution_count": null,
   "metadata": {},
   "outputs": [],
   "source": []
  }
 ],
 "metadata": {
  "kernelspec": {
   "display_name": "Python 3",
   "language": "python",
   "name": "python3"
  },
  "language_info": {
   "codemirror_mode": {
    "name": "ipython",
    "version": 3
   },
   "file_extension": ".py",
   "mimetype": "text/x-python",
   "name": "python",
   "nbconvert_exporter": "python",
   "pygments_lexer": "ipython3",
   "version": "3.10.6"
  },
  "orig_nbformat": 4
 },
 "nbformat": 4,
 "nbformat_minor": 2
}
